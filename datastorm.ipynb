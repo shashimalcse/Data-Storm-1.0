{
 "cells": [
  {
   "cell_type": "code",
   "execution_count": 209,
   "metadata": {
    "colab": {},
    "colab_type": "code",
    "id": "6Hcf9n4a9Q11"
   },
   "outputs": [],
   "source": [
    "import matplotlib.pyplot as plt\n",
    "import pandas as pd\n",
    "import numpy as np"
   ]
  },
  {
   "cell_type": "code",
   "execution_count": 210,
   "metadata": {
    "colab": {},
    "colab_type": "code",
    "id": "F7QicE3598i7"
   },
   "outputs": [],
   "source": [
    "df=pd.read_csv(\"credit_card_default_train.csv\")\n",
    "test=pd.read_csv(\"credit_card_default_test.csv\")\n",
    "test1=pd.read_csv(\"credit_card_default_test.csv\")"
   ]
  },
  {
   "cell_type": "code",
   "execution_count": 211,
   "metadata": {
    "colab": {
     "base_uri": "https://localhost:8080/",
     "height": 326
    },
    "colab_type": "code",
    "id": "cOE6WXHn-J1y",
    "outputId": "d52257f9-2a81-4e53-db1e-6156169b00c6"
   },
   "outputs": [
    {
     "data": {
      "text/html": [
       "<div>\n",
       "<style scoped>\n",
       "    .dataframe tbody tr th:only-of-type {\n",
       "        vertical-align: middle;\n",
       "    }\n",
       "\n",
       "    .dataframe tbody tr th {\n",
       "        vertical-align: top;\n",
       "    }\n",
       "\n",
       "    .dataframe thead th {\n",
       "        text-align: right;\n",
       "    }\n",
       "</style>\n",
       "<table border=\"1\" class=\"dataframe\">\n",
       "  <thead>\n",
       "    <tr style=\"text-align: right;\">\n",
       "      <th></th>\n",
       "      <th>Client_ID</th>\n",
       "      <th>Balance_Limit_V1</th>\n",
       "      <th>Gender</th>\n",
       "      <th>EDUCATION_STATUS</th>\n",
       "      <th>MARITAL_STATUS</th>\n",
       "      <th>AGE</th>\n",
       "      <th>PAY_JULY</th>\n",
       "      <th>PAY_AUG</th>\n",
       "      <th>PAY_SEP</th>\n",
       "      <th>PAY_OCT</th>\n",
       "      <th>...</th>\n",
       "      <th>DUE_AMT_SEP</th>\n",
       "      <th>DUE_AMT_OCT</th>\n",
       "      <th>DUE_AMT_NOV</th>\n",
       "      <th>DUE_AMT_DEC</th>\n",
       "      <th>PAID_AMT_JULY</th>\n",
       "      <th>PAID_AMT_AUG</th>\n",
       "      <th>PAID_AMT_SEP</th>\n",
       "      <th>PAID_AMT_OCT</th>\n",
       "      <th>PAID_AMT_NOV</th>\n",
       "      <th>PAID_AMT_DEC</th>\n",
       "    </tr>\n",
       "  </thead>\n",
       "  <tbody>\n",
       "    <tr>\n",
       "      <th>0</th>\n",
       "      <td>A20170</td>\n",
       "      <td>500K</td>\n",
       "      <td>M</td>\n",
       "      <td>Other</td>\n",
       "      <td>Single</td>\n",
       "      <td>31-45</td>\n",
       "      <td>0</td>\n",
       "      <td>0</td>\n",
       "      <td>0</td>\n",
       "      <td>0</td>\n",
       "      <td>...</td>\n",
       "      <td>128316</td>\n",
       "      <td>311201</td>\n",
       "      <td>351790</td>\n",
       "      <td>352206</td>\n",
       "      <td>13710</td>\n",
       "      <td>12816</td>\n",
       "      <td>195701</td>\n",
       "      <td>53246</td>\n",
       "      <td>17256</td>\n",
       "      <td>12991</td>\n",
       "    </tr>\n",
       "    <tr>\n",
       "      <th>1</th>\n",
       "      <td>A16887</td>\n",
       "      <td>200K</td>\n",
       "      <td>F</td>\n",
       "      <td>Other</td>\n",
       "      <td>Single</td>\n",
       "      <td>31-45</td>\n",
       "      <td>0</td>\n",
       "      <td>0</td>\n",
       "      <td>0</td>\n",
       "      <td>0</td>\n",
       "      <td>...</td>\n",
       "      <td>91823</td>\n",
       "      <td>94181</td>\n",
       "      <td>97221</td>\n",
       "      <td>100275</td>\n",
       "      <td>3756</td>\n",
       "      <td>3842</td>\n",
       "      <td>3890</td>\n",
       "      <td>4620</td>\n",
       "      <td>4620</td>\n",
       "      <td>4620</td>\n",
       "    </tr>\n",
       "    <tr>\n",
       "      <th>2</th>\n",
       "      <td>A3430</td>\n",
       "      <td>400K</td>\n",
       "      <td>M</td>\n",
       "      <td>Other</td>\n",
       "      <td>Other</td>\n",
       "      <td>Less than 30</td>\n",
       "      <td>-1</td>\n",
       "      <td>-1</td>\n",
       "      <td>2</td>\n",
       "      <td>0</td>\n",
       "      <td>...</td>\n",
       "      <td>8984</td>\n",
       "      <td>11294</td>\n",
       "      <td>9561</td>\n",
       "      <td>993</td>\n",
       "      <td>6930</td>\n",
       "      <td>0</td>\n",
       "      <td>2310</td>\n",
       "      <td>0</td>\n",
       "      <td>2310</td>\n",
       "      <td>40060</td>\n",
       "    </tr>\n",
       "    <tr>\n",
       "      <th>3</th>\n",
       "      <td>A3696</td>\n",
       "      <td>1.5M</td>\n",
       "      <td>M</td>\n",
       "      <td>Graduate</td>\n",
       "      <td>Single</td>\n",
       "      <td>31-45</td>\n",
       "      <td>1</td>\n",
       "      <td>-1</td>\n",
       "      <td>-1</td>\n",
       "      <td>-2</td>\n",
       "      <td>...</td>\n",
       "      <td>5775</td>\n",
       "      <td>0</td>\n",
       "      <td>0</td>\n",
       "      <td>0</td>\n",
       "      <td>5775</td>\n",
       "      <td>5775</td>\n",
       "      <td>0</td>\n",
       "      <td>0</td>\n",
       "      <td>0</td>\n",
       "      <td>0</td>\n",
       "    </tr>\n",
       "    <tr>\n",
       "      <th>4</th>\n",
       "      <td>A20474</td>\n",
       "      <td>100K</td>\n",
       "      <td>F</td>\n",
       "      <td>High School</td>\n",
       "      <td>Other</td>\n",
       "      <td>Less than 30</td>\n",
       "      <td>0</td>\n",
       "      <td>0</td>\n",
       "      <td>-2</td>\n",
       "      <td>-2</td>\n",
       "      <td>...</td>\n",
       "      <td>0</td>\n",
       "      <td>0</td>\n",
       "      <td>0</td>\n",
       "      <td>0</td>\n",
       "      <td>0</td>\n",
       "      <td>0</td>\n",
       "      <td>0</td>\n",
       "      <td>0</td>\n",
       "      <td>0</td>\n",
       "      <td>0</td>\n",
       "    </tr>\n",
       "  </tbody>\n",
       "</table>\n",
       "<p>5 rows × 24 columns</p>\n",
       "</div>"
      ],
      "text/plain": [
       "  Client_ID Balance_Limit_V1 Gender EDUCATION_STATUS MARITAL_STATUS  \\\n",
       "0    A20170             500K      M            Other         Single   \n",
       "1    A16887             200K      F            Other         Single   \n",
       "2     A3430             400K      M            Other          Other   \n",
       "3     A3696             1.5M      M         Graduate         Single   \n",
       "4    A20474             100K      F      High School          Other   \n",
       "\n",
       "            AGE  PAY_JULY  PAY_AUG  PAY_SEP  PAY_OCT  ...  DUE_AMT_SEP  \\\n",
       "0         31-45         0        0        0        0  ...       128316   \n",
       "1         31-45         0        0        0        0  ...        91823   \n",
       "2  Less than 30        -1       -1        2        0  ...         8984   \n",
       "3         31-45         1       -1       -1       -2  ...         5775   \n",
       "4  Less than 30         0        0       -2       -2  ...            0   \n",
       "\n",
       "   DUE_AMT_OCT  DUE_AMT_NOV  DUE_AMT_DEC  PAID_AMT_JULY  PAID_AMT_AUG  \\\n",
       "0       311201       351790       352206          13710         12816   \n",
       "1        94181        97221       100275           3756          3842   \n",
       "2        11294         9561          993           6930             0   \n",
       "3            0            0            0           5775          5775   \n",
       "4            0            0            0              0             0   \n",
       "\n",
       "   PAID_AMT_SEP  PAID_AMT_OCT  PAID_AMT_NOV  PAID_AMT_DEC  \n",
       "0        195701         53246         17256         12991  \n",
       "1          3890          4620          4620          4620  \n",
       "2          2310             0          2310         40060  \n",
       "3             0             0             0             0  \n",
       "4             0             0             0             0  \n",
       "\n",
       "[5 rows x 24 columns]"
      ]
     },
     "execution_count": 211,
     "metadata": {},
     "output_type": "execute_result"
    }
   ],
   "source": [
    "test.head()"
   ]
  },
  {
   "cell_type": "code",
   "execution_count": 212,
   "metadata": {
    "colab": {},
    "colab_type": "code",
    "id": "8L4xeBo8-TUu"
   },
   "outputs": [],
   "source": [
    "df=df.drop('Client_ID',axis=1)\n",
    "client_id=test['Client_ID']\n",
    "test=test.drop('Client_ID',axis=1)\n",
    "\n",
    "labeldata=df.select_dtypes(include=[object,bool])\n",
    "labeldata_test=test.select_dtypes(include=[object,bool])"
   ]
  },
  {
   "cell_type": "code",
   "execution_count": 213,
   "metadata": {
    "colab": {},
    "colab_type": "code",
    "id": "RLXQTy3W-cFu"
   },
   "outputs": [],
   "source": [
    "from sklearn import preprocessing"
   ]
  },
  {
   "cell_type": "code",
   "execution_count": 214,
   "metadata": {
    "colab": {
     "base_uri": "https://localhost:8080/",
     "height": 204
    },
    "colab_type": "code",
    "id": "e96myT0vAzOz",
    "outputId": "ce1d5a96-295f-4d55-d0e8-ce693c57b818"
   },
   "outputs": [
    {
     "data": {
      "text/html": [
       "<div>\n",
       "<style scoped>\n",
       "    .dataframe tbody tr th:only-of-type {\n",
       "        vertical-align: middle;\n",
       "    }\n",
       "\n",
       "    .dataframe tbody tr th {\n",
       "        vertical-align: top;\n",
       "    }\n",
       "\n",
       "    .dataframe thead th {\n",
       "        text-align: right;\n",
       "    }\n",
       "</style>\n",
       "<table border=\"1\" class=\"dataframe\">\n",
       "  <thead>\n",
       "    <tr style=\"text-align: right;\">\n",
       "      <th></th>\n",
       "      <th>Balance_Limit_V1</th>\n",
       "      <th>Gender</th>\n",
       "      <th>EDUCATION_STATUS</th>\n",
       "      <th>MARITAL_STATUS</th>\n",
       "      <th>AGE</th>\n",
       "    </tr>\n",
       "  </thead>\n",
       "  <tbody>\n",
       "    <tr>\n",
       "      <th>0</th>\n",
       "      <td>3</td>\n",
       "      <td>1</td>\n",
       "      <td>0</td>\n",
       "      <td>0</td>\n",
       "      <td>0</td>\n",
       "    </tr>\n",
       "    <tr>\n",
       "      <th>1</th>\n",
       "      <td>3</td>\n",
       "      <td>0</td>\n",
       "      <td>1</td>\n",
       "      <td>0</td>\n",
       "      <td>2</td>\n",
       "    </tr>\n",
       "    <tr>\n",
       "      <th>2</th>\n",
       "      <td>2</td>\n",
       "      <td>0</td>\n",
       "      <td>1</td>\n",
       "      <td>1</td>\n",
       "      <td>0</td>\n",
       "    </tr>\n",
       "    <tr>\n",
       "      <th>3</th>\n",
       "      <td>5</td>\n",
       "      <td>0</td>\n",
       "      <td>0</td>\n",
       "      <td>1</td>\n",
       "      <td>0</td>\n",
       "    </tr>\n",
       "    <tr>\n",
       "      <th>4</th>\n",
       "      <td>3</td>\n",
       "      <td>0</td>\n",
       "      <td>0</td>\n",
       "      <td>0</td>\n",
       "      <td>0</td>\n",
       "    </tr>\n",
       "  </tbody>\n",
       "</table>\n",
       "</div>"
      ],
      "text/plain": [
       "   Balance_Limit_V1  Gender  EDUCATION_STATUS  MARITAL_STATUS  AGE\n",
       "0                 3       1                 0               0    0\n",
       "1                 3       0                 1               0    2\n",
       "2                 2       0                 1               1    0\n",
       "3                 5       0                 0               1    0\n",
       "4                 3       0                 0               0    0"
      ]
     },
     "execution_count": 214,
     "metadata": {},
     "output_type": "execute_result"
    }
   ],
   "source": [
    "labelEncoder=preprocessing.LabelEncoder()\n",
    "X_2=labeldata.apply(labelEncoder.fit_transform)\n",
    "X_2_test=labeldata_test.apply(labelEncoder.fit_transform)\n",
    "\n",
    "X_2.head()\n"
   ]
  },
  {
   "cell_type": "code",
   "execution_count": 215,
   "metadata": {},
   "outputs": [],
   "source": [
    "categorical=['Balance_Limit_V1', 'Gender', 'EDUCATION_STATUS', 'MARITAL_STATUS',\n",
    "       'AGE']"
   ]
  },
  {
   "cell_type": "code",
   "execution_count": 216,
   "metadata": {
    "colab": {},
    "colab_type": "code",
    "id": "d3miJA1e-wdz"
   },
   "outputs": [],
   "source": [
    "df['Balance_Limit_V1']=X_2.Balance_Limit_V1\n",
    "df['Gender']=X_2.Gender\n",
    "df['EDUCATION_STATUS']=X_2.EDUCATION_STATUS\n",
    "df['MARITAL_STATUS']=X_2.MARITAL_STATUS\n",
    "df['AGE']=X_2.AGE"
   ]
  },
  {
   "cell_type": "code",
   "execution_count": 217,
   "metadata": {},
   "outputs": [],
   "source": [
    "df['DUE_AMT']=(df['DUE_AMT_JULY']+df['DUE_AMT_AUG']+df['DUE_AMT_SEP']+df['DUE_AMT_OCT']+\n",
    "       df['DUE_AMT_NOV']+ df['DUE_AMT_DEC'])/6\n",
    "\n",
    "df=df.drop(['DUE_AMT_JULY', 'DUE_AMT_AUG', 'DUE_AMT_SEP', 'DUE_AMT_OCT',\n",
    "       'DUE_AMT_NOV', 'DUE_AMT_DEC'],axis=1)\n",
    "\n",
    "# test['DUE_AMT']=(test['DUE_AMT_JULY']+test['DUE_AMT_AUG']+test['DUE_AMT_SEP']+test['DUE_AMT_OCT']+\n",
    "#        test['DUE_AMT_NOV']+ test['DUE_AMT_DEC'])/6\n",
    "\n",
    "# test=test.drop(['DUE_AMT_JULY', 'DUE_AMT_AUG', 'DUE_AMT_SEP', 'DUE_AMT_OCT',\n",
    "#        'DUE_AMT_NOV', 'DUE_AMT_DEC'],axis=1)"
   ]
  },
  {
   "cell_type": "code",
   "execution_count": 218,
   "metadata": {},
   "outputs": [],
   "source": [
    "test['Balance_Limit_V1']=X_2_test.Balance_Limit_V1\n",
    "test['Gender']=X_2_test.Gender\n",
    "test['EDUCATION_STATUS']=X_2_test.EDUCATION_STATUS\n",
    "test['MARITAL_STATUS']=X_2_test.MARITAL_STATUS\n",
    "test['AGE']=X_2_test.AGE"
   ]
  },
  {
   "cell_type": "code",
   "execution_count": 219,
   "metadata": {
    "colab": {
     "base_uri": "https://localhost:8080/",
     "height": 224
    },
    "colab_type": "code",
    "id": "JRm0p2VuCHpH",
    "outputId": "d5524751-b1e3-4e06-964d-05eb84ab4148"
   },
   "outputs": [
    {
     "data": {
      "text/html": [
       "<div>\n",
       "<style scoped>\n",
       "    .dataframe tbody tr th:only-of-type {\n",
       "        vertical-align: middle;\n",
       "    }\n",
       "\n",
       "    .dataframe tbody tr th {\n",
       "        vertical-align: top;\n",
       "    }\n",
       "\n",
       "    .dataframe thead th {\n",
       "        text-align: right;\n",
       "    }\n",
       "</style>\n",
       "<table border=\"1\" class=\"dataframe\">\n",
       "  <thead>\n",
       "    <tr style=\"text-align: right;\">\n",
       "      <th></th>\n",
       "      <th>Balance_Limit_V1</th>\n",
       "      <th>Gender</th>\n",
       "      <th>EDUCATION_STATUS</th>\n",
       "      <th>MARITAL_STATUS</th>\n",
       "      <th>AGE</th>\n",
       "      <th>PAY_JULY</th>\n",
       "      <th>PAY_AUG</th>\n",
       "      <th>PAY_SEP</th>\n",
       "      <th>PAY_OCT</th>\n",
       "      <th>PAY_NOV</th>\n",
       "      <th>PAY_DEC</th>\n",
       "      <th>PAID_AMT_JULY</th>\n",
       "      <th>PAID_AMT_AUG</th>\n",
       "      <th>PAID_AMT_SEP</th>\n",
       "      <th>PAID_AMT_OCT</th>\n",
       "      <th>PAID_AMT_NOV</th>\n",
       "      <th>PAID_AMT_DEC</th>\n",
       "      <th>NEXT_MONTH_DEFAULT</th>\n",
       "      <th>DUE_AMT</th>\n",
       "    </tr>\n",
       "  </thead>\n",
       "  <tbody>\n",
       "    <tr>\n",
       "      <th>0</th>\n",
       "      <td>3</td>\n",
       "      <td>1</td>\n",
       "      <td>0</td>\n",
       "      <td>0</td>\n",
       "      <td>0</td>\n",
       "      <td>-1</td>\n",
       "      <td>-1</td>\n",
       "      <td>-1</td>\n",
       "      <td>-1</td>\n",
       "      <td>-1</td>\n",
       "      <td>-1</td>\n",
       "      <td>3437</td>\n",
       "      <td>6004</td>\n",
       "      <td>39418</td>\n",
       "      <td>162772</td>\n",
       "      <td>0</td>\n",
       "      <td>538165</td>\n",
       "      <td>0</td>\n",
       "      <td>33474.833333</td>\n",
       "    </tr>\n",
       "    <tr>\n",
       "      <th>1</th>\n",
       "      <td>3</td>\n",
       "      <td>0</td>\n",
       "      <td>1</td>\n",
       "      <td>0</td>\n",
       "      <td>2</td>\n",
       "      <td>0</td>\n",
       "      <td>-1</td>\n",
       "      <td>-1</td>\n",
       "      <td>-1</td>\n",
       "      <td>-1</td>\n",
       "      <td>0</td>\n",
       "      <td>151818</td>\n",
       "      <td>46200</td>\n",
       "      <td>43530</td>\n",
       "      <td>80811</td>\n",
       "      <td>942</td>\n",
       "      <td>33666</td>\n",
       "      <td>0</td>\n",
       "      <td>130174.666667</td>\n",
       "    </tr>\n",
       "    <tr>\n",
       "      <th>2</th>\n",
       "      <td>2</td>\n",
       "      <td>0</td>\n",
       "      <td>1</td>\n",
       "      <td>1</td>\n",
       "      <td>0</td>\n",
       "      <td>4</td>\n",
       "      <td>3</td>\n",
       "      <td>2</td>\n",
       "      <td>2</td>\n",
       "      <td>-2</td>\n",
       "      <td>-2</td>\n",
       "      <td>0</td>\n",
       "      <td>0</td>\n",
       "      <td>0</td>\n",
       "      <td>0</td>\n",
       "      <td>0</td>\n",
       "      <td>0</td>\n",
       "      <td>1</td>\n",
       "      <td>8040.000000</td>\n",
       "    </tr>\n",
       "    <tr>\n",
       "      <th>3</th>\n",
       "      <td>5</td>\n",
       "      <td>0</td>\n",
       "      <td>0</td>\n",
       "      <td>1</td>\n",
       "      <td>0</td>\n",
       "      <td>2</td>\n",
       "      <td>0</td>\n",
       "      <td>0</td>\n",
       "      <td>0</td>\n",
       "      <td>0</td>\n",
       "      <td>0</td>\n",
       "      <td>3855</td>\n",
       "      <td>3890</td>\n",
       "      <td>3696</td>\n",
       "      <td>4620</td>\n",
       "      <td>4049</td>\n",
       "      <td>3918</td>\n",
       "      <td>1</td>\n",
       "      <td>96483.333333</td>\n",
       "    </tr>\n",
       "    <tr>\n",
       "      <th>4</th>\n",
       "      <td>3</td>\n",
       "      <td>0</td>\n",
       "      <td>0</td>\n",
       "      <td>0</td>\n",
       "      <td>0</td>\n",
       "      <td>2</td>\n",
       "      <td>2</td>\n",
       "      <td>0</td>\n",
       "      <td>0</td>\n",
       "      <td>0</td>\n",
       "      <td>0</td>\n",
       "      <td>0</td>\n",
       "      <td>20790</td>\n",
       "      <td>16170</td>\n",
       "      <td>17325</td>\n",
       "      <td>16401</td>\n",
       "      <td>17325</td>\n",
       "      <td>0</td>\n",
       "      <td>435555.166667</td>\n",
       "    </tr>\n",
       "  </tbody>\n",
       "</table>\n",
       "</div>"
      ],
      "text/plain": [
       "   Balance_Limit_V1  Gender  EDUCATION_STATUS  MARITAL_STATUS  AGE  PAY_JULY  \\\n",
       "0                 3       1                 0               0    0        -1   \n",
       "1                 3       0                 1               0    2         0   \n",
       "2                 2       0                 1               1    0         4   \n",
       "3                 5       0                 0               1    0         2   \n",
       "4                 3       0                 0               0    0         2   \n",
       "\n",
       "   PAY_AUG  PAY_SEP  PAY_OCT  PAY_NOV  PAY_DEC  PAID_AMT_JULY  PAID_AMT_AUG  \\\n",
       "0       -1       -1       -1       -1       -1           3437          6004   \n",
       "1       -1       -1       -1       -1        0         151818         46200   \n",
       "2        3        2        2       -2       -2              0             0   \n",
       "3        0        0        0        0        0           3855          3890   \n",
       "4        2        0        0        0        0              0         20790   \n",
       "\n",
       "   PAID_AMT_SEP  PAID_AMT_OCT  PAID_AMT_NOV  PAID_AMT_DEC  NEXT_MONTH_DEFAULT  \\\n",
       "0         39418        162772             0        538165                   0   \n",
       "1         43530         80811           942         33666                   0   \n",
       "2             0             0             0             0                   1   \n",
       "3          3696          4620          4049          3918                   1   \n",
       "4         16170         17325         16401         17325                   0   \n",
       "\n",
       "         DUE_AMT  \n",
       "0   33474.833333  \n",
       "1  130174.666667  \n",
       "2    8040.000000  \n",
       "3   96483.333333  \n",
       "4  435555.166667  "
      ]
     },
     "execution_count": 219,
     "metadata": {},
     "output_type": "execute_result"
    }
   ],
   "source": [
    "df.head()"
   ]
  },
  {
   "cell_type": "code",
   "execution_count": 220,
   "metadata": {
    "colab": {},
    "colab_type": "code",
    "id": "tHQoklirDlCv"
   },
   "outputs": [],
   "source": [
    "Y=df['NEXT_MONTH_DEFAULT']\n",
    "X=df.drop('NEXT_MONTH_DEFAULT',axis=1)"
   ]
  },
  {
   "cell_type": "code",
   "execution_count": 226,
   "metadata": {},
   "outputs": [
    {
     "name": "stderr",
     "output_type": "stream",
     "text": [
      "Using TensorFlow backend.\n"
     ]
    }
   ],
   "source": [
    "from imblearn.over_sampling import SMOTE, ADASYN\n",
    "X_resampled, y_resampled = SMOTE().fit_resample(X, Y)"
   ]
  },
  {
   "cell_type": "code",
   "execution_count": 227,
   "metadata": {
    "colab": {},
    "colab_type": "code",
    "id": "0DlKvqL0D1kE"
   },
   "outputs": [],
   "source": [
    "from sklearn.model_selection import train_test_split\n",
    "x_train, x_test, y_train, y_test = train_test_split(X_resampled, y_resampled, test_size = 0.2,random_state=42)"
   ]
  },
  {
   "cell_type": "code",
   "execution_count": null,
   "metadata": {
    "colab": {},
    "colab_type": "code",
    "id": "-TiBAzywE3D5"
   },
   "outputs": [],
   "source": [
    "from sklearn.ensemble import RandomForestClassifier\n",
    "clf=RandomForestClassifier(n_estimators=400,max_features='auto',random_state=0,\n",
    "                          max_depth=14)\n",
    "clf.fit(x_train,y_train)\n",
    "\n",
    "y_pred=clf.predict(x_test)\n",
    "y_train_pred = clf.predict(x_train)"
   ]
  },
  {
   "cell_type": "code",
   "execution_count": 207,
   "metadata": {},
   "outputs": [],
   "source": [
    "# from sklearn.ensemble import RandomForestClassifier\n",
    "# clf=RandomForestClassifier(n_estimators=400,max_features='auto',random_state=0,\n",
    "#                           max_depth=10)\n",
    "# clf.fit(X,Y)\n",
    "\n",
    "# y_pred=clf.predict(test)"
   ]
  },
  {
   "cell_type": "code",
   "execution_count": 139,
   "metadata": {},
   "outputs": [
    {
     "data": {
      "text/plain": [
       "array([0, 0, 0, ..., 0, 0, 0])"
      ]
     },
     "execution_count": 139,
     "metadata": {},
     "output_type": "execute_result"
    }
   ],
   "source": [
    "y_pred"
   ]
  },
  {
   "cell_type": "code",
   "execution_count": 208,
   "metadata": {},
   "outputs": [],
   "source": [
    "# di_ct={'Client_ID':test1.Client_ID,'NEXT_MONTH_DEFAULT':y_pred}\n",
    "\n",
    "# testdf=pd.DataFrame(di_ct)\n",
    "# testdf.to_csv('file2.csv', header=True, index=False) "
   ]
  },
  {
   "cell_type": "code",
   "execution_count": 229,
   "metadata": {
    "colab": {
     "base_uri": "https://localhost:8080/",
     "height": 51
    },
    "colab_type": "code",
    "id": "ix6Av6bsE-bR",
    "outputId": "3acd0ec6-1cde-4975-c360-4993cb76954a"
   },
   "outputs": [
    {
     "name": "stdout",
     "output_type": "stream",
     "text": [
      "train accuracy=  0.8101231922870916\n",
      "test accuracy=  0.7805302624531334\n"
     ]
    }
   ],
   "source": [
    "from sklearn import metrics\n",
    "\n",
    "print(\"train accuracy= \",metrics.accuracy_score(y_train, y_train_pred))\n",
    "print(\"test accuracy= \", metrics.accuracy_score(y_test, y_pred))"
   ]
  },
  {
   "cell_type": "code",
   "execution_count": 224,
   "metadata": {
    "colab": {
     "base_uri": "https://localhost:8080/",
     "height": 170
    },
    "colab_type": "code",
    "id": "u3y-wL4ZFGfs",
    "outputId": "c5d65579-480a-4730-f13f-9364e659c6aa"
   },
   "outputs": [
    {
     "name": "stdout",
     "output_type": "stream",
     "text": [
      "              precision    recall  f1-score   support\n",
      "\n",
      "           0       0.84      0.96      0.90      3745\n",
      "           1       0.71      0.37      0.49      1055\n",
      "\n",
      "    accuracy                           0.83      4800\n",
      "   macro avg       0.78      0.66      0.69      4800\n",
      "weighted avg       0.81      0.83      0.81      4800\n",
      "\n"
     ]
    }
   ],
   "source": [
    "from sklearn.metrics import classification_report\n",
    "\n",
    "target_names = ['0','1']\n",
    "print(classification_report(y_test, y_pred, target_names=target_names))"
   ]
  },
  {
   "cell_type": "code",
   "execution_count": 47,
   "metadata": {
    "colab": {
     "base_uri": "https://localhost:8080/",
     "height": 51
    },
    "colab_type": "code",
    "id": "ErEQfjoyFWPP",
    "outputId": "21b6e6d2-7eaa-454f-9edd-23288618aeef"
   },
   "outputs": [
    {
     "name": "stdout",
     "output_type": "stream",
     "text": [
      "[0.821875   0.8171875  0.81822917 0.81875    0.82291667 0.8\n",
      " 0.82135417 0.8140625  0.815625   0.81666667]\n"
     ]
    }
   ],
   "source": [
    "from sklearn.model_selection import cross_val_score\n",
    "all_accuracies = cross_val_score(estimator=clf, X=x_train, y=y_train, cv=10)\n",
    "\n",
    "print(all_accuracies)"
   ]
  },
  {
   "cell_type": "code",
   "execution_count": 48,
   "metadata": {
    "colab": {
     "base_uri": "https://localhost:8080/",
     "height": 34
    },
    "colab_type": "code",
    "id": "1RRYLauZFdut",
    "outputId": "53c29610-7745-42af-cefa-d7cdbd7853da"
   },
   "outputs": [
    {
     "name": "stdout",
     "output_type": "stream",
     "text": [
      "0.8166666666666668\n"
     ]
    }
   ],
   "source": [
    "print(all_accuracies.mean())"
   ]
  },
  {
   "cell_type": "code",
   "execution_count": 16,
   "metadata": {
    "colab": {},
    "colab_type": "code",
    "id": "Wywd1O6BFeuT"
   },
   "outputs": [],
   "source": [
    "grid_param = {\n",
    "    'n_estimators': [300,500,700,900],\n",
    "    'criterion': ['gini','entropy'],\n",
    "    'bootstrap': [True, False],\n",
    "    'max_depth':[10,12,13]\n",
    "}"
   ]
  },
  {
   "cell_type": "code",
   "execution_count": 17,
   "metadata": {
    "colab": {},
    "colab_type": "code",
    "id": "CrYigvEjFiAq"
   },
   "outputs": [],
   "source": [
    "from sklearn.model_selection import GridSearchCV\n",
    "gd_sr1 = GridSearchCV(estimator=clf,\n",
    "                     param_grid=grid_param,\n",
    "                     scoring='accuracy',\n",
    "                     cv=5,\n",
    "                     n_jobs=-1)"
   ]
  },
  {
   "cell_type": "code",
   "execution_count": 41,
   "metadata": {
    "colab": {},
    "colab_type": "code",
    "id": "TXgZUTyIFkyv"
   },
   "outputs": [],
   "source": [
    "# gd_sr1.fit(x_train, y_train)"
   ]
  },
  {
   "cell_type": "code",
   "execution_count": 44,
   "metadata": {},
   "outputs": [
    {
     "data": {
      "text/plain": [
       "PAY_JULY            0.239189\n",
       "PAY_AUG             0.105056\n",
       "PAY_SEP             0.057613\n",
       "PAY_OCT             0.049525\n",
       "PAID_AMT_JULY       0.044559\n",
       "PAY_NOV             0.043959\n",
       "DUE_AMT_JULY        0.043509\n",
       "PAID_AMT_AUG        0.038437\n",
       "PAY_DEC             0.037297\n",
       "DUE_AMT_AUG         0.036399\n",
       "DUE_AMT_SEP         0.034532\n",
       "PAID_AMT_SEP        0.033920\n",
       "DUE_AMT_OCT         0.033884\n",
       "DUE_AMT_NOV         0.033005\n",
       "DUE_AMT_DEC         0.032933\n",
       "PAID_AMT_OCT        0.031773\n",
       "PAID_AMT_NOV        0.031271\n",
       "PAID_AMT_DEC        0.030603\n",
       "Balance_Limit_V1    0.015975\n",
       "AGE                 0.008402\n",
       "EDUCATION_STATUS    0.008045\n",
       "Gender              0.005248\n",
       "MARITAL_STATUS      0.004866\n",
       "dtype: float64"
      ]
     },
     "execution_count": 44,
     "metadata": {},
     "output_type": "execute_result"
    }
   ],
   "source": [
    "a=['Balance_Limit_V1', 'Gender', 'EDUCATION_STATUS', 'MARITAL_STATUS',\n",
    "       'AGE', 'PAY_JULY', 'PAY_AUG', 'PAY_SEP', 'PAY_OCT', 'PAY_NOV',\n",
    "       'PAY_DEC', 'DUE_AMT_JULY', 'DUE_AMT_AUG', 'DUE_AMT_SEP', 'DUE_AMT_OCT',\n",
    "       'DUE_AMT_NOV', 'DUE_AMT_DEC', 'PAID_AMT_JULY', 'PAID_AMT_AUG',\n",
    "       'PAID_AMT_SEP', 'PAID_AMT_OCT', 'PAID_AMT_NOV', 'PAID_AMT_DEC']\n",
    "feature_imp = pd.Series(clf.feature_importances_,index=a).sort_values(ascending=False)\n",
    "feature_imp"
   ]
  },
  {
   "cell_type": "code",
   "execution_count": 45,
   "metadata": {},
   "outputs": [
    {
     "name": "stderr",
     "output_type": "stream",
     "text": [
      "No handles with labels found to put in legend.\n"
     ]
    },
    {
     "data": {
      "image/png": "[encoded data removed]",
      "text/plain": [
       "<Figure size 432x288 with 1 Axes>"
      ]
     },
     "metadata": {
      "needs_background": "light"
     },
     "output_type": "display_data"
    }
   ],
   "source": [
    "import matplotlib.pyplot as plt\n",
    "import seaborn as sns\n",
    "%matplotlib inline\n",
    "# Creating a bar plot\n",
    "sns.barplot(x=feature_imp, y=feature_imp.index)\n",
    "# Add labels to your graph\n",
    "plt.xlabel('Feature Importance Score')\n",
    "plt.ylabel('Features')\n",
    "plt.title(\"Visualizing Important Features\")\n",
    "plt.legend()\n",
    "plt.show()"
   ]
  },
  {
   "cell_type": "code",
   "execution_count": null,
   "metadata": {},
   "outputs": [],
   "source": []
  }
 ],
 "metadata": {
  "colab": {
   "name": "datastorm.ipynb",
   "provenance": []
  },
  "kernelspec": {
   "display_name": "Python 3",
   "language": "python",
   "name": "python3"
  },
  "language_info": {
   "codemirror_mode": {
    "name": "ipython",
    "version": 3
   },
   "file_extension": ".py",
   "mimetype": "text/x-python",
   "name": "python",
   "nbconvert_exporter": "python",
   "pygments_lexer": "ipython3",
   "version": "3.7.3"
  }
 },
 "nbformat": 4,
 "nbformat_minor": 1
}
